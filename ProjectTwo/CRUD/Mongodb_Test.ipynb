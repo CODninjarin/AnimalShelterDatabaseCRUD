{
 "cells": [
  {
   "cell_type": "code",
   "execution_count": 1,
   "id": "c2aacf3f",
   "metadata": {
    "scrolled": false
   },
   "outputs": [
    {
     "name": "stdout",
     "output_type": "stream",
     "text": [
      "Create: True\n",
      "Read: [{'_id': ObjectId('6612a36a9e36d15cd0a5f32b'), 'animal_id': 'A123456', 'breed': 'Siberian Husky', 'animal_type': 'Dog', 'name': 'Future', 'date_of_birth': '2017-07-01'}]\n",
      "data already exists\n",
      "Create: False\n"
     ]
    }
   ],
   "source": [
    "from CRUD_setup import AnimalShelter\n",
    "\n",
    "USER = 'aacuser'\n",
    "PASS = 'Codninja123'\n",
    "\n",
    "\n",
    "#Create AnimalShelter Object      \n",
    "CRUD_tester = AnimalShelter(USER, PASS, HOST, PORT)\n",
    "        \n",
    "data = {\n",
    "    'animal_id' : 'A123456',\n",
    "    'breed': 'Siberian Husky',\n",
    "    'animal_type': 'Dog',\n",
    "    'name': 'Future',\n",
    "    'date_of_birth' : '2017-07-01'\n",
    "}\n",
    "#Test Create and Read methods using test data        \n",
    "print(f\"Create: {CRUD_tester.create(data)}\")\n",
    "read_data = {'name' : 'Future'}\n",
    "print(f\"Read: {CRUD_tester.read(read_data)}\")\n",
    "\n",
    "#Test data already exists\n",
    "print(f\"Create: {CRUD_tester.create(data)}\")"
   ]
  },
  {
   "cell_type": "code",
   "execution_count": 2,
   "id": "0d6c6fb2",
   "metadata": {
    "scrolled": true
   },
   "outputs": [
    {
     "name": "stdout",
     "output_type": "stream",
     "text": [
      "{'n': 1, 'nModified': 1, 'ok': 1.0, 'updatedExisting': True}\n",
      "Read: [{'_id': ObjectId('6612a36a9e36d15cd0a5f32b'), 'animal_id': 'A123456', 'breed': 'Siberian Husky', 'animal_type': 'Dog', 'name': 'Future', 'date_of_birth': '2017-07-20'}]\n"
     ]
    }
   ],
   "source": [
    "#Test update method using test data\n",
    "animal_id = {'animal_id' : 'A123456'}\n",
    "update_data = {\n",
    "    'date_of_birth' : '2017-07-20'\n",
    "}\n",
    "print(CRUD_tester.update(animal_id, update_data))\n",
    "print(f\"Read: {CRUD_tester.read(animal_id)}\")"
   ]
  },
  {
   "cell_type": "code",
   "execution_count": 3,
   "id": "9c0272b6",
   "metadata": {
    "scrolled": false
   },
   "outputs": [
    {
     "name": "stdout",
     "output_type": "stream",
     "text": [
      "{'n': 1, 'ok': 1.0}\n",
      "Read: data does not exist\n"
     ]
    }
   ],
   "source": [
    "#Test delete method using test data\n",
    "print(CRUD_tester.delete(animal_id))\n",
    "#Test no data to read\n",
    "print(f\"Read: {CRUD_tester.read(animal_id)}\")"
   ]
  },
  {
   "cell_type": "code",
   "execution_count": null,
   "id": "7d291cf0",
   "metadata": {},
   "outputs": [],
   "source": []
  }
 ],
 "metadata": {
  "kernelspec": {
   "display_name": "Python 3 (ipykernel)",
   "language": "python",
   "name": "python3"
  },
  "language_info": {
   "codemirror_mode": {
    "name": "ipython",
    "version": 3
   },
   "file_extension": ".py",
   "mimetype": "text/x-python",
   "name": "python",
   "nbconvert_exporter": "python",
   "pygments_lexer": "ipython3",
   "version": "3.9.12"
  }
 },
 "nbformat": 4,
 "nbformat_minor": 5
}
